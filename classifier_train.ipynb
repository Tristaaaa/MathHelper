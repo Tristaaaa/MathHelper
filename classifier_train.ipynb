{
  "cells": [
    {
      "cell_type": "markdown",
      "metadata": {
        "id": "shMmF-5g4F2s"
      },
      "source": [
        "# classifier"
      ]
    },
    {
      "cell_type": "markdown",
      "metadata": {
        "id": "_bcFji9WrqMQ"
      },
      "source": [
        "**import**"
      ]
    },
    {
      "cell_type": "code",
      "execution_count": 1,
      "metadata": {
        "id": "IDW9KnfDxchg"
      },
      "outputs": [],
      "source": [
        "import os\n",
        "import numpy as np\n",
        "import matplotlib.pyplot as plt\n",
        "import tensorflow as tf\n",
        "import cv2"
      ]
    },
    {
      "cell_type": "markdown",
      "metadata": {
        "id": "H1p8h8qbyg3m"
      },
      "source": [
        "**functions**"
      ]
    },
    {
      "cell_type": "code",
      "execution_count": 3,
      "metadata": {
        "id": "yNMwg3U7y4rF"
      },
      "outputs": [],
      "source": [
        "import tensorflow.keras.preprocessing.image as tfimage\n",
        "\n",
        "def load_datasets(path):\n",
        "  clean = []\n",
        "  types = []\n",
        "  label = []\n",
        "\n",
        "  # loop over every folder\n",
        "  i = -1\n",
        "  k = 0\n",
        "  for folder in os.listdir(path):\n",
        "    i += 1\n",
        "    label.append(folder)\n",
        "    print(i, \": \", folder)\n",
        "    for file in os.listdir(path + '/' + folder):\n",
        "        # image = tfimage.load_img(path + '/' + folder + '/' + file, target_size=(256,256))\n",
        "        # image = tfimage.img_to_array(image).astype('float32') / 255\n",
        "        img = tfimage.load_img(path + '/' + folder + '/' + file)\n",
        "        img = cv2.imread(os.path.join(path,folder,file),cv2.IMREAD_GRAYSCALE) # Convert to Image to Grayscale bc contour\n",
        "        img=~img # Invert the bits of image 255 -> 0 / test the dataset\n",
        "        if img is not None:\n",
        "          ret,thresh=cv2.threshold(img,127,255,cv2.THRESH_BINARY) # THRESH_BINARY: Set bits > 127 to 1(white background) and <= 127 to 0(black) \n",
        "          ctrs, ret = cv2.findContours(thresh, cv2.RETR_EXTERNAL, cv2.CHAIN_APPROX_NONE) # determine object boundary, remove background\n",
        "          cnt=sorted(ctrs, key=lambda ctr: cv2.boundingRect(ctr)[0])\n",
        "          w=int(28)\n",
        "          h=int(28)\n",
        "          # maximum area of the rectangle\n",
        "          maxi=0\n",
        "          for c in cnt: # traverse in all the rectangles we have\n",
        "            x,y,w,h=cv2.boundingRect(c)\n",
        "            maxi=max(w*h,maxi)\n",
        "            if maxi==w*h:\n",
        "              x_max=x\n",
        "              y_max=y\n",
        "              w_max=w\n",
        "              h_max=h\n",
        "          im_crop= thresh[y_max:y_max+h_max+10, x_max:x_max+w_max+10] # add 10 extra margin to avoid error\n",
        "          im_resize = cv2.resize(im_crop,(28,28))\n",
        "          im_resize =  tfimage.img_to_array(im_resize).astype('float32') / 255\n",
        "          #im_resize=np.reshape(im_resize,(784,1)) #resize to (28,28)\n",
        "          clean.append(im_resize) # flat the matrix\n",
        "          types.append(i)\n",
        "\n",
        "  types = tf.one_hot(types, depth=i+1)\n",
        "  types = np.array(types)\n",
        "  clean = np.array(clean)\n",
        "\n",
        "  print(\"image shape: \", clean.shape)\n",
        "  print(\"label shape: \", types.shape)\n",
        "  \n",
        "  return types, clean, label"
      ]
    },
    {
      "cell_type": "code",
      "execution_count": 4,
      "metadata": {
        "id": "OdBV5t_iKDde"
      },
      "outputs": [],
      "source": [
        "def preprocess(path):\n",
        "  # load data\n",
        "  types, clean, label = load_datasets(path)\n",
        "  # permutation\n",
        "  idx = np.random.permutation(np.arange(types.shape[0]))\n",
        "  clean = clean[idx]\n",
        "  types = types[idx]\n",
        "  # split\n",
        "  train_num = round(len(clean)*0.8)\n",
        "  print(\"train num: \", train_num)\n",
        "  print(\"test num: \", len(clean) - train_num)\n",
        "  #80% of images to training set\n",
        "  clean_train = clean[0:train_num]\n",
        "  clean_test = clean[train_num:]\n",
        "  types_train = types[0:train_num]\n",
        "  types_test = types[train_num:]\n",
        "\n",
        "  return clean_train, clean_test, types_train, types_test, label"
      ]
    },
    {
      "cell_type": "code",
      "execution_count": 7,
      "metadata": {
        "id": "SH01nPzJw8vA"
      },
      "outputs": [],
      "source": [
        "from tensorflow.keras import layers, Model\n",
        "\n",
        "def build_model(class_num):\n",
        "  img_input = layers.Input(shape=(28, 28, 1))\n",
        "\n",
        "  x = layers.Conv2D(16, 3, activation='relu')(img_input)\n",
        "  x = layers.MaxPooling2D(2)(x)\n",
        "\n",
        "  x = layers.Conv2D(32, 3, activation='relu')(x)\n",
        "  x = layers.MaxPooling2D(2)(x)\n",
        "\n",
        "  x = layers.Conv2D(64, 3, activation='relu')(x)\n",
        "  x = layers.MaxPooling2D(2)(x)\n",
        "\n",
        "  # x = layers.Conv2D(8, 1, activation='relu')(x)\n",
        "  # x = layers.MaxPooling2D(2)(x)\n",
        "  x = layers.Dropout(0.2)(x)\n",
        "\n",
        "  x = layers.Flatten()(x)\n",
        "  x = layers.Dense(1024, activation='relu')(x)\n",
        "  x = layers.Dense(50, activation='relu')(x)\n",
        "  output = layers.Dense(class_num, activation='softmax')(x)\n",
        "\n",
        "  model = Model(img_input, output)\n",
        "\n",
        "  return model"
      ]
    },
    {
      "cell_type": "markdown",
      "metadata": {
        "id": "Czmz_BLC0ekX"
      },
      "source": [
        "# main"
      ]
    },
    {
      "cell_type": "markdown",
      "metadata": {
        "id": "6bzIvuQ50iwV"
      },
      "source": [
        "**create model**"
      ]
    },
    {
      "cell_type": "code",
      "execution_count": 9,
      "metadata": {
        "colab": {
          "base_uri": "https://localhost:8080/",
          "height": 347
        },
        "id": "lXE4lmrQywJb",
        "outputId": "992cd44a-ff36-4ae8-a191-04c5295f9658"
      },
      "outputs": [
        {
          "name": "stdout",
          "output_type": "stream",
          "text": [
            "0 :  !\n",
            "1 :  +\n",
            "2 :  -\n",
            "3 :  0\n",
            "4 :  1\n",
            "5 :  2\n",
            "6 :  3\n",
            "7 :  4\n",
            "8 :  5\n",
            "9 :  6\n",
            "10 :  7\n",
            "11 :  8\n",
            "12 :  9\n",
            "13 :  cos\n",
            "14 :  div\n",
            "15 :  log\n",
            "16 :  pi\n",
            "17 :  sin\n",
            "18 :  x\n",
            "image shape:  (170397, 28, 28, 1)\n",
            "label shape:  (170397, 19)\n",
            "train num:  136318\n",
            "test num:  34079\n"
          ]
        }
      ],
      "source": [
        "# load data\n",
        "path = 'C:\\\\Users\\\\USER\\\\Desktop\\\\MathHelper\\\\dataset'\n",
        "clean_train, clean_test, types_train, types_test, label = preprocess(path)"
      ]
    },
    {
      "cell_type": "code",
      "execution_count": 10,
      "metadata": {
        "id": "L6hegidTxWkb"
      },
      "outputs": [
        {
          "name": "stdout",
          "output_type": "stream",
          "text": [
            "Model: \"functional_3\"\n",
            "_________________________________________________________________\n",
            "Layer (type)                 Output Shape              Param #   \n",
            "=================================================================\n",
            "input_2 (InputLayer)         [(None, 28, 28, 1)]       0         \n",
            "_________________________________________________________________\n",
            "conv2d_3 (Conv2D)            (None, 26, 26, 16)        160       \n",
            "_________________________________________________________________\n",
            "max_pooling2d_3 (MaxPooling2 (None, 13, 13, 16)        0         \n",
            "_________________________________________________________________\n",
            "conv2d_4 (Conv2D)            (None, 11, 11, 32)        4640      \n",
            "_________________________________________________________________\n",
            "max_pooling2d_4 (MaxPooling2 (None, 5, 5, 32)          0         \n",
            "_________________________________________________________________\n",
            "conv2d_5 (Conv2D)            (None, 3, 3, 64)          18496     \n",
            "_________________________________________________________________\n",
            "max_pooling2d_5 (MaxPooling2 (None, 1, 1, 64)          0         \n",
            "_________________________________________________________________\n",
            "dropout_1 (Dropout)          (None, 1, 1, 64)          0         \n",
            "_________________________________________________________________\n",
            "flatten_1 (Flatten)          (None, 64)                0         \n",
            "_________________________________________________________________\n",
            "dense_3 (Dense)              (None, 1024)              66560     \n",
            "_________________________________________________________________\n",
            "dense_4 (Dense)              (None, 50)                51250     \n",
            "_________________________________________________________________\n",
            "dense_5 (Dense)              (None, 19)                969       \n",
            "=================================================================\n",
            "Total params: 142,075\n",
            "Trainable params: 142,075\n",
            "Non-trainable params: 0\n",
            "_________________________________________________________________\n",
            "None\n"
          ]
        }
      ],
      "source": [
        "# build model\n",
        "class_num = 19\n",
        "classifier = build_model(class_num)\n",
        "print(classifier.summary())"
      ]
    },
    {
      "cell_type": "code",
      "execution_count": 11,
      "metadata": {
        "id": "HGYObCblx85F"
      },
      "outputs": [],
      "source": [
        "# compile the model\n",
        "optimizer = tf.keras.optimizers.Adam(learning_rate = 0.01)\n",
        "classifier.compile(\n",
        "    optimizer = 'adam',\n",
        "    loss = 'categorical_crossentropy',\n",
        "    metrics = ['accuracy'])"
      ]
    },
    {
      "cell_type": "markdown",
      "metadata": {
        "id": "gOgLmF0BUKeq"
      },
      "source": [
        "**train model**"
      ]
    },
    {
      "cell_type": "code",
      "execution_count": 12,
      "metadata": {
        "id": "9yhsLRAeyRDT"
      },
      "outputs": [
        {
          "name": "stdout",
          "output_type": "stream",
          "text": [
            "Epoch 1/10\n",
            "13632/13632 [==============================] - 87s 6ms/step - loss: 0.4085 - accuracy: 0.8873 - val_loss: 0.1998 - val_accuracy: 0.9456\n",
            "Epoch 2/10\n",
            "13632/13632 [==============================] - 110s 8ms/step - loss: 0.2222 - accuracy: 0.9391 - val_loss: 0.1474 - val_accuracy: 0.9597\n",
            "Epoch 3/10\n",
            "13632/13632 [==============================] - 115s 8ms/step - loss: 0.1813 - accuracy: 0.9498 - val_loss: 0.1175 - val_accuracy: 0.9677\n",
            "Epoch 4/10\n",
            "13632/13632 [==============================] - 117s 9ms/step - loss: 0.1580 - accuracy: 0.9568 - val_loss: 0.1147 - val_accuracy: 0.9693\n",
            "Epoch 5/10\n",
            "13632/13632 [==============================] - 115s 8ms/step - loss: 0.1430 - accuracy: 0.9609 - val_loss: 0.1018 - val_accuracy: 0.9727\n",
            "Epoch 6/10\n",
            "13632/13632 [==============================] - 89s 7ms/step - loss: 0.1343 - accuracy: 0.9628 - val_loss: 0.0904 - val_accuracy: 0.9761\n",
            "Epoch 7/10\n",
            "13632/13632 [==============================] - 106s 8ms/step - loss: 0.1266 - accuracy: 0.9655 - val_loss: 0.0804 - val_accuracy: 0.9788\n",
            "Epoch 8/10\n",
            "13632/13632 [==============================] - 80s 6ms/step - loss: 0.1229 - accuracy: 0.9672 - val_loss: 0.0852 - val_accuracy: 0.9773\n",
            "Epoch 9/10\n",
            "13632/13632 [==============================] - 106s 8ms/step - loss: 0.1185 - accuracy: 0.9680 - val_loss: 0.0883 - val_accuracy: 0.9766\n",
            "Epoch 10/10\n",
            "13632/13632 [==============================] - 106s 8ms/step - loss: 0.1169 - accuracy: 0.9687 - val_loss: 0.1027 - val_accuracy: 0.9731\n"
          ]
        }
      ],
      "source": [
        "callback = tf.keras.callbacks.EarlyStopping(\n",
        "    monitor = 'val_loss',\n",
        "    patience = 5,\n",
        "    restore_best_weights = True)\n",
        "\n",
        "history = classifier.fit(\n",
        "    x = clean_train, y = types_train,\n",
        "    batch_size = 10,\n",
        "    epochs = 10,\n",
        "    callbacks = [callback],\n",
        "    validation_data = (clean_test, types_test))"
      ]
    },
    {
      "cell_type": "code",
      "execution_count": 13,
      "metadata": {
        "id": "jXPT6nFfyeWS"
      },
      "outputs": [
        {
          "data": {
            "image/png": "[encoded data removed]",
            "text/plain": [
              "<Figure size 432x288 with 1 Axes>"
            ]
          },
          "metadata": {
            "needs_background": "light"
          },
          "output_type": "display_data"
        },
        {
          "data": {
            "image/png": "[encoded data removed]",
            "text/plain": [
              "<Figure size 432x288 with 1 Axes>"
            ]
          },
          "metadata": {
            "needs_background": "light"
          },
          "output_type": "display_data"
        }
      ],
      "source": [
        "def plot_accuracy(history, title):\n",
        "    plt.title(title)\n",
        "    plt.plot(history.history['accuracy'])\n",
        "    plt.plot(history.history['val_accuracy'])\n",
        "    plt.ylabel('accuracy')\n",
        "    plt.xlabel('epoch')\n",
        "    plt.legend(['train_accuracy', 'validation_accuracy'], loc='best')\n",
        "    plt.savefig(\"best_1\")\n",
        "    plt.show()\n",
        "\n",
        "def plot_loss(history,title):\n",
        "    plt.title(title)\n",
        "    plt.plot(history.history['loss'])\n",
        "    plt.plot(history.history['val_loss'])\n",
        "    plt.ylabel('loss')\n",
        "    plt.xlabel('epoch')\n",
        "    plt.legend(['train_loss', 'validation_loss'], loc='best')\n",
        "    plt.savefig(\"best_2\")\n",
        "    plt.show()\n",
        "\n",
        "plot_accuracy(history,'Classification')\n",
        "plot_loss(history,'Classification')\n"
      ]
    },
    {
      "cell_type": "markdown",
      "metadata": {
        "id": "3LJH3Km2sPFG"
      },
      "source": [
        "**save trained model**"
      ]
    },
    {
      "cell_type": "code",
      "execution_count": 14,
      "metadata": {
        "id": "fPKfHHz2sPFH"
      },
      "outputs": [],
      "source": [
        "classifier.save(\"little_helper.h5\")"
      ]
    }
  ],
  "metadata": {
    "colab": {
      "collapsed_sections": [],
      "name": "symbol_classifier_train.ipynb",
      "provenance": []
    },
    "interpreter": {
      "hash": "ad2bdc8ecc057115af97d19610ffacc2b4e99fae6737bb82f5d7fb13d2f2c186"
    },
    "kernelspec": {
      "display_name": "Python 3.8.8 ('base')",
      "language": "python",
      "name": "python3"
    },
    "language_info": {
      "codemirror_mode": {
        "name": "ipython",
        "version": 3
      },
      "file_extension": ".py",
      "mimetype": "text/x-python",
      "name": "python",
      "nbconvert_exporter": "python",
      "pygments_lexer": "ipython3",
      "version": "3.8.8"
    }
  },
  "nbformat": 4,
  "nbformat_minor": 0
}
