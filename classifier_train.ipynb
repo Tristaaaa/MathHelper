{
  "cells": [
    {
      "cell_type": "markdown",
      "metadata": {
        "id": "shMmF-5g4F2s"
      },
      "source": [
        "# classifier"
      ]
    },
    {
      "cell_type": "markdown",
      "metadata": {
        "id": "_bcFji9WrqMQ"
      },
      "source": [
        "**import**"
      ]
    },
    {
      "cell_type": "code",
      "execution_count": 1,
      "metadata": {
        "id": "IDW9KnfDxchg"
      },
      "outputs": [],
      "source": [
        "import os\n",
        "import numpy as np\n",
        "import matplotlib.pyplot as plt\n",
        "import tensorflow as tf\n",
        "import cv2"
      ]
    },
    {
      "cell_type": "markdown",
      "metadata": {
        "id": "H1p8h8qbyg3m"
      },
      "source": [
        "**functions**"
      ]
    },
    {
      "cell_type": "code",
      "execution_count": 2,
      "metadata": {
        "id": "yNMwg3U7y4rF"
      },
      "outputs": [],
      "source": [
        "import tensorflow.keras.preprocessing.image as tfimage\n",
        "\n",
        "def load_datasets(path):\n",
        "  clean = []\n",
        "  types = []\n",
        "  label = []\n",
        "\n",
        "  # loop over every folder\n",
        "  i = -1\n",
        "  k = 0\n",
        "  for folder in os.listdir(path):\n",
        "    i += 1\n",
        "    label.append(folder)\n",
        "    print(i, \": \", folder)\n",
        "    for file in os.listdir(path + '/' + folder):\n",
        "        # image = tfimage.load_img(path + '/' + folder + '/' + file, target_size=(256,256))\n",
        "        # image = tfimage.img_to_array(image).astype('float32') / 255\n",
        "        img = tfimage.load_img(path + '/' + folder + '/' + file)\n",
        "        img = cv2.imread(os.path.join(path,folder,file),cv2.IMREAD_GRAYSCALE) # Convert to Image to Grayscale bc contour\n",
        "        img=~img # Invert the bits of image 255 -> 0 / test the dataset\n",
        "        if img is not None:\n",
        "          ret,thresh=cv2.threshold(img,127,255,cv2.THRESH_BINARY) # THRESH_BINARY: Set bits > 127 to 1(white background) and <= 127 to 0(black) \n",
        "          ctrs, ret = cv2.findContours(thresh, cv2.RETR_EXTERNAL, cv2.CHAIN_APPROX_NONE) # determine object boundary, remove background\n",
        "          cnt=sorted(ctrs, key=lambda ctr: cv2.boundingRect(ctr)[0])\n",
        "          w=int(28)\n",
        "          h=int(28)\n",
        "          # maximum area of the rectangle\n",
        "          maxi=0\n",
        "          for c in cnt: # traverse in all the rectangles we have\n",
        "            x,y,w,h=cv2.boundingRect(c)\n",
        "            maxi=max(w*h,maxi)\n",
        "            if maxi==w*h:\n",
        "              x_max=x\n",
        "              y_max=y\n",
        "              w_max=w\n",
        "              h_max=h\n",
        "          im_crop= thresh[y_max:y_max+h_max+10, x_max:x_max+w_max+10] # add 10 extra margin to avoid error\n",
        "          im_resize = cv2.resize(im_crop,(28,28))\n",
        "          im_resize =  tfimage.img_to_array(im_resize).astype('float32') / 255\n",
        "          #im_resize=np.reshape(im_resize,(784,1)) #resize to (28,28)\n",
        "          clean.append(im_resize) # flat the matrix\n",
        "          types.append(i)\n",
        "\n",
        "  types = tf.one_hot(types, depth=i+1)\n",
        "  types = np.array(types)\n",
        "  clean = np.array(clean)\n",
        "\n",
        "  print(\"image shape: \", clean.shape)\n",
        "  print(\"label shape: \", types.shape)\n",
        "  \n",
        "  return types, clean, label"
      ]
    },
    {
      "cell_type": "code",
      "execution_count": 3,
      "metadata": {
        "id": "OdBV5t_iKDde"
      },
      "outputs": [],
      "source": [
        "def preprocess(path):\n",
        "  # load data\n",
        "  types, clean, label = load_datasets(path)\n",
        "  # permutation\n",
        "  idx = np.random.permutation(np.arange(types.shape[0]))\n",
        "  clean = clean[idx]\n",
        "  types = types[idx]\n",
        "  # split\n",
        "  train_num = round(len(clean)*0.8)\n",
        "  print(\"train num: \", train_num)\n",
        "  print(\"test num: \", len(clean) - train_num)\n",
        "  #80% of images to training set\n",
        "  clean_train = clean[0:train_num]\n",
        "  clean_test = clean[train_num:]\n",
        "  types_train = types[0:train_num]\n",
        "  types_test = types[train_num:]\n",
        "\n",
        "  return clean_train, clean_test, types_train, types_test, label"
      ]
    },
    {
      "cell_type": "code",
      "execution_count": 4,
      "metadata": {
        "id": "SH01nPzJw8vA"
      },
      "outputs": [],
      "source": [
        "from tensorflow.keras import layers, Model\n",
        "\n",
        "def build_model(class_num):\n",
        "  img_input = layers.Input(shape=(28, 28, 1))\n",
        "\n",
        "  x = layers.Conv2D(30, 5, activation='relu')(img_input)\n",
        "  x = layers.MaxPooling2D(2)(x)\n",
        "\n",
        "  x = layers.Conv2D(15, 3, activation='relu')(x)\n",
        "  x = layers.MaxPooling2D(2)(x)\n",
        "\n",
        "  # x = layers.Conv2D(8, 1, activation='relu')(x)\n",
        "  # x = layers.MaxPooling2D(2)(x)\n",
        "  x = layers.Dropout(0.2)(x)\n",
        "\n",
        "  x = layers.Flatten()(x)\n",
        "  x = layers.Dense(128, activation='relu')(x)\n",
        "  x = layers.Dense(50, activation='relu')(x)\n",
        "  output = layers.Dense(class_num, activation='softmax')(x)\n",
        "\n",
        "  model = Model(img_input, output)\n",
        "\n",
        "  return model"
      ]
    },
    {
      "cell_type": "markdown",
      "metadata": {
        "id": "Czmz_BLC0ekX"
      },
      "source": [
        "# main"
      ]
    },
    {
      "cell_type": "markdown",
      "metadata": {
        "id": "6bzIvuQ50iwV"
      },
      "source": [
        "**create model**"
      ]
    },
    {
      "cell_type": "code",
      "execution_count": 7,
      "metadata": {
        "colab": {
          "base_uri": "https://localhost:8080/",
          "height": 347
        },
        "id": "lXE4lmrQywJb",
        "outputId": "992cd44a-ff36-4ae8-a191-04c5295f9658"
      },
      "outputs": [
        {
          "name": "stdout",
          "output_type": "stream",
          "text": [
            "0 :  +\n",
            "1 :  -\n",
            "2 :  0\n",
            "3 :  1\n",
            "4 :  2\n",
            "5 :  3\n",
            "6 :  4\n",
            "7 :  5\n",
            "8 :  6\n",
            "9 :  7\n",
            "10 :  8\n",
            "11 :  9\n",
            "12 :  x\n",
            "image shape:  (156617, 28, 28, 1)\n",
            "label shape:  (156617, 13)\n",
            "train num:  125294\n",
            "test num:  31323\n"
          ]
        }
      ],
      "source": [
        "# load data\n",
        "path = 'C:\\\\Users\\\\USER\\\\Desktop\\\\Handwritten-Equation-Recognition---CNN-master\\\\dataset'\n",
        "clean_train, clean_test, types_train, types_test, label = preprocess(path)"
      ]
    },
    {
      "cell_type": "code",
      "execution_count": 8,
      "metadata": {
        "id": "L6hegidTxWkb"
      },
      "outputs": [
        {
          "name": "stdout",
          "output_type": "stream",
          "text": [
            "Model: \"functional_3\"\n",
            "_________________________________________________________________\n",
            "Layer (type)                 Output Shape              Param #   \n",
            "=================================================================\n",
            "input_2 (InputLayer)         [(None, 28, 28, 1)]       0         \n",
            "_________________________________________________________________\n",
            "conv2d_2 (Conv2D)            (None, 24, 24, 30)        780       \n",
            "_________________________________________________________________\n",
            "max_pooling2d_2 (MaxPooling2 (None, 12, 12, 30)        0         \n",
            "_________________________________________________________________\n",
            "conv2d_3 (Conv2D)            (None, 10, 10, 15)        4065      \n",
            "_________________________________________________________________\n",
            "max_pooling2d_3 (MaxPooling2 (None, 5, 5, 15)          0         \n",
            "_________________________________________________________________\n",
            "dropout_1 (Dropout)          (None, 5, 5, 15)          0         \n",
            "_________________________________________________________________\n",
            "flatten_1 (Flatten)          (None, 375)               0         \n",
            "_________________________________________________________________\n",
            "dense_3 (Dense)              (None, 128)               48128     \n",
            "_________________________________________________________________\n",
            "dense_4 (Dense)              (None, 50)                6450      \n",
            "_________________________________________________________________\n",
            "dense_5 (Dense)              (None, 13)                663       \n",
            "=================================================================\n",
            "Total params: 60,086\n",
            "Trainable params: 60,086\n",
            "Non-trainable params: 0\n",
            "_________________________________________________________________\n",
            "None\n"
          ]
        }
      ],
      "source": [
        "# build model\n",
        "class_num = 13\n",
        "classifier = build_model(class_num)\n",
        "print(classifier.summary())"
      ]
    },
    {
      "cell_type": "code",
      "execution_count": 9,
      "metadata": {
        "id": "HGYObCblx85F"
      },
      "outputs": [],
      "source": [
        "# compile the model\n",
        "optimizer = tf.keras.optimizers.Adam(learning_rate = 0.01)\n",
        "classifier.compile(\n",
        "    optimizer = 'adam',\n",
        "    loss = 'categorical_crossentropy',\n",
        "    metrics = ['accuracy'])"
      ]
    },
    {
      "cell_type": "markdown",
      "metadata": {
        "id": "gOgLmF0BUKeq"
      },
      "source": [
        "**train model**"
      ]
    },
    {
      "cell_type": "code",
      "execution_count": 10,
      "metadata": {
        "id": "9yhsLRAeyRDT"
      },
      "outputs": [
        {
          "name": "stdout",
          "output_type": "stream",
          "text": [
            "Epoch 1/10\n",
            "12530/12530 [==============================] - 150s 12ms/step - loss: 0.1547 - accuracy: 0.9563 - val_loss: 0.0547 - val_accuracy: 0.9862\n",
            "Epoch 2/10\n",
            "12530/12530 [==============================] - 152s 12ms/step - loss: 0.0560 - accuracy: 0.9844 - val_loss: 0.0330 - val_accuracy: 0.9924\n",
            "Epoch 3/10\n",
            "12530/12530 [==============================] - 170s 14ms/step - loss: 0.0391 - accuracy: 0.9895 - val_loss: 0.0353 - val_accuracy: 0.9920\n",
            "Epoch 4/10\n",
            "12530/12530 [==============================] - 153s 12ms/step - loss: 0.0318 - accuracy: 0.9914 - val_loss: 0.0204 - val_accuracy: 0.9956\n",
            "Epoch 5/10\n",
            "12530/12530 [==============================] - 154s 12ms/step - loss: 0.0257 - accuracy: 0.9931 - val_loss: 0.0221 - val_accuracy: 0.9957\n",
            "Epoch 6/10\n",
            "12530/12530 [==============================] - 152s 12ms/step - loss: 0.0250 - accuracy: 0.9934 - val_loss: 0.0323 - val_accuracy: 0.9922\n",
            "Epoch 7/10\n",
            "12530/12530 [==============================] - 151s 12ms/step - loss: 0.0215 - accuracy: 0.9942 - val_loss: 0.0180 - val_accuracy: 0.9963\n",
            "Epoch 8/10\n",
            "12530/12530 [==============================] - 151s 12ms/step - loss: 0.0206 - accuracy: 0.9945 - val_loss: 0.0161 - val_accuracy: 0.9966\n",
            "Epoch 9/10\n",
            "12530/12530 [==============================] - 149s 12ms/step - loss: 0.0197 - accuracy: 0.9946 - val_loss: 0.0169 - val_accuracy: 0.9960\n",
            "Epoch 10/10\n",
            "12530/12530 [==============================] - 530s 42ms/step - loss: 0.0194 - accuracy: 0.9951 - val_loss: 0.0155 - val_accuracy: 0.9969\n"
          ]
        }
      ],
      "source": [
        "callback = tf.keras.callbacks.EarlyStopping(\n",
        "    monitor = 'val_loss',\n",
        "    patience = 5,\n",
        "    restore_best_weights = True)\n",
        "\n",
        "history = classifier.fit(\n",
        "    x = clean_train, y = types_train,\n",
        "    batch_size = 10,\n",
        "    epochs = 10,\n",
        "    callbacks = [callback],\n",
        "    validation_data = (clean_test, types_test))"
      ]
    },
    {
      "cell_type": "code",
      "execution_count": 11,
      "metadata": {
        "id": "jXPT6nFfyeWS"
      },
      "outputs": [
        {
          "data": {
            "image/png": "[encoded data removed]",
            "text/plain": [
              "<Figure size 432x288 with 1 Axes>"
            ]
          },
          "metadata": {
            "needs_background": "light"
          },
          "output_type": "display_data"
        },
        {
          "data": {
            "image/png": "[encoded data removed]",
            "text/plain": [
              "<Figure size 432x288 with 1 Axes>"
            ]
          },
          "metadata": {
            "needs_background": "light"
          },
          "output_type": "display_data"
        }
      ],
      "source": [
        "def plot_accuracy(history, title):\n",
        "    plt.title(title)\n",
        "    plt.plot(history.history['accuracy'])\n",
        "    plt.plot(history.history['val_accuracy'])\n",
        "    plt.ylabel('accuracy')\n",
        "    plt.xlabel('epoch')\n",
        "    plt.legend(['train_accuracy', 'validation_accuracy'], loc='best')\n",
        "    plt.savefig(\"best_1\")\n",
        "    plt.show()\n",
        "\n",
        "def plot_loss(history,title):\n",
        "    plt.title(title)\n",
        "    plt.plot(history.history['loss'])\n",
        "    plt.plot(history.history['val_loss'])\n",
        "    plt.ylabel('loss')\n",
        "    plt.xlabel('epoch')\n",
        "    plt.legend(['train_loss', 'validation_loss'], loc='best')\n",
        "    plt.savefig(\"best_2\")\n",
        "    plt.show()\n",
        "\n",
        "plot_accuracy(history,'Classification')\n",
        "plot_loss(history,'Classification')\n"
      ]
    },
    {
      "cell_type": "markdown",
      "metadata": {
        "id": "3LJH3Km2sPFG"
      },
      "source": [
        "**save trained model**"
      ]
    },
    {
      "cell_type": "code",
      "execution_count": 42,
      "metadata": {
        "id": "fPKfHHz2sPFH"
      },
      "outputs": [],
      "source": [
        "classifier.save(\"little_helper.h5\")"
      ]
    }
  ],
  "metadata": {
    "colab": {
      "collapsed_sections": [],
      "name": "symbol_classifier_train.ipynb",
      "provenance": []
    },
    "interpreter": {
      "hash": "ad2bdc8ecc057115af97d19610ffacc2b4e99fae6737bb82f5d7fb13d2f2c186"
    },
    "kernelspec": {
      "display_name": "Python 3.8.8 ('base')",
      "language": "python",
      "name": "python3"
    },
    "language_info": {
      "codemirror_mode": {
        "name": "ipython",
        "version": 3
      },
      "file_extension": ".py",
      "mimetype": "text/x-python",
      "name": "python",
      "nbconvert_exporter": "python",
      "pygments_lexer": "ipython3",
      "version": "3.8.8"
    }
  },
  "nbformat": 4,
  "nbformat_minor": 0
}
