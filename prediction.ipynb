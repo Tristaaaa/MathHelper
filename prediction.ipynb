{
  "cells": [
    {
      "cell_type": "markdown",
      "metadata": {
        "id": "HsL7lJshIcYG"
      },
      "source": [
        "# Prediction\n",
        "附上test data的連結\n",
        "[link!](https://www.kaggle.com/datasets/xainano/handwrittenmathsymbols)"
      ]
    },
    {
      "cell_type": "code",
      "execution_count": 4,
      "metadata": {
        "id": "sokidISEIcYK"
      },
      "outputs": [],
      "source": [
        "import tensorflow as tf\n",
        "import os\n",
        "import numpy as np\n",
        "import matplotlib.pyplot as plt\n",
        "import cv2"
      ]
    },
    {
      "cell_type": "code",
      "execution_count": 5,
      "metadata": {
        "id": "_0hvxKM4IcYM"
      },
      "outputs": [],
      "source": [
        "import tensorflow.keras.preprocessing.image as tfimage\n",
        "\n",
        "def load_datasets(path):\n",
        "  clean = []\n",
        "  types = []\n",
        "  label = []\n",
        "\n",
        "  # loop over every folder\n",
        "  i = -1\n",
        "  k = 0\n",
        "  for folder in os.listdir(path):\n",
        "    i += 1\n",
        "    label.append(folder)\n",
        "    print(i, \": \", folder)\n",
        "    for file in os.listdir(path + '/' + folder):\n",
        "        # image = tfimage.load_img(path + '/' + folder + '/' + file, target_size=(256,256))\n",
        "        # image = tfimage.img_to_array(image).astype('float32') / 255\n",
        "        img = tfimage.load_img(path + '/' + folder + '/' + file)\n",
        "        img = cv2.imread(os.path.join(path,folder,file),cv2.IMREAD_GRAYSCALE) # Convert to Image to Grayscale bc contour\n",
        "        img=~img # Invert the bits of image 255 -> 0 / test the dataset\n",
        "        if img is not None:\n",
        "          ret,thresh=cv2.threshold(img,127,255,cv2.THRESH_BINARY) # THRESH_BINARY: Set bits > 127 to 1(white background) and <= 127 to 0(black) \n",
        "          ctrs, ret = cv2.findContours(thresh, cv2.RETR_EXTERNAL, cv2.CHAIN_APPROX_NONE) # determine object boundary, remove background\n",
        "          cnt=sorted(ctrs, key=lambda ctr: cv2.boundingRect(ctr)[0])\n",
        "          w=int(28)\n",
        "          h=int(28)\n",
        "          # maximum area of the rectangle\n",
        "          maxi=0\n",
        "          for c in cnt: # traverse in all the rectangles we have\n",
        "            x,y,w,h=cv2.boundingRect(c)\n",
        "            maxi=max(w*h,maxi)\n",
        "            if maxi==w*h:\n",
        "              x_max=x\n",
        "              y_max=y\n",
        "              w_max=w\n",
        "              h_max=h\n",
        "          im_crop= thresh[y_max:y_max+h_max+10, x_max:x_max+w_max+10] # add 10 extra margin to avoid error\n",
        "          im_resize = cv2.resize(im_crop,(28,28))\n",
        "          im_resize =  tfimage.img_to_array(im_resize).astype('float32') / 255\n",
        "          #im_resize=np.reshape(im_resize,(784,1)) #resize to (28,28)\n",
        "          clean.append(im_resize) # flat the matrix\n",
        "          types.append(i)\n",
        "\n",
        "  types = tf.one_hot(types, depth=i+1)\n",
        "  types = np.array(types)\n",
        "  clean = np.array(clean)\n",
        "\n",
        "  print(\"image shape: \", clean.shape)\n",
        "  print(\"label shape: \", types.shape)\n",
        "  \n",
        "  return types, clean, label"
      ]
    },
    {
      "cell_type": "markdown",
      "metadata": {
        "id": "tZGntgD_IcYN"
      },
      "source": [
        "**load model and test data (for prediction)**"
      ]
    },
    {
      "cell_type": "code",
      "execution_count": 6,
      "metadata": {
        "id": "6k7htQU2IcYO",
        "outputId": "d6bde5e0-1c72-4ad0-9294-4269ba805e04"
      },
      "outputs": [
        {
          "name": "stdout",
          "output_type": "stream",
          "text": [
            "0 :  +\n",
            "1 :  -\n",
            "2 :  0\n",
            "3 :  1\n",
            "4 :  2\n",
            "5 :  3\n",
            "6 :  4\n",
            "7 :  5\n",
            "8 :  6\n",
            "9 :  7\n",
            "10 :  8\n",
            "11 :  9\n",
            "12 :  x\n",
            "image shape:  (156617, 28, 28, 1)\n",
            "label shape:  (156617, 13)\n"
          ]
        }
      ],
      "source": [
        "modelpath = \"C:\\\\Users\\\\USER\\\\Desktop\\\\MathHelper\\\\little_helper.h5\"\n",
        "classifier = tf.keras.models.load_model(modelpath)\n",
        "datapath = \"C:\\\\Users\\\\USER\\\\Desktop\\\\MathHelper\\\\dataset\"\n",
        "types, clean, label = load_datasets(datapath)"
      ]
    },
    {
      "cell_type": "markdown",
      "metadata": {
        "id": "yaFPKghpIcYQ"
      },
      "source": [
        "**prediction**"
      ]
    },
    {
      "cell_type": "code",
      "execution_count": 7,
      "metadata": {
        "id": "4CPr8mI1IcYQ",
        "outputId": "b92807ca-5313-4c10-c45e-a2622443eb25"
      },
      "outputs": [
        {
          "name": "stdout",
          "output_type": "stream",
          "text": [
            "7831/7831 - 32s - loss: 0.0148 - accuracy: 0.9961\n",
            "test loss:  0.014767018146812916\n",
            "test accuracy:  0.9960604310035706\n"
          ]
        }
      ],
      "source": [
        "class_num = 13\n",
        "scores = classifier.evaluate(\n",
        "        x = clean,\n",
        "        y = types,\n",
        "        batch_size = 20,\n",
        "        verbose = 2)\n",
        "\n",
        "print(\"test loss: \", scores[0])\n",
        "print(\"test accuracy: \", scores[1])"
      ]
    },
    {
      "cell_type": "code",
      "execution_count": 8,
      "metadata": {
        "id": "QKzu6hZUIcYR"
      },
      "outputs": [],
      "source": [
        "# for visualize\n",
        "results = classifier.predict(clean)"
      ]
    },
    {
      "cell_type": "code",
      "execution_count": 9,
      "metadata": {
        "id": "Odb3mEOrIcYS"
      },
      "outputs": [],
      "source": [
        "total = [0, 0, 0, 0, 0, 0, 0, 0, 0, 0, 0, 0, 0]\n",
        "wrong = [0, 0, 0, 0, 0, 0, 0, 0, 0, 0, 0, 0, 0]\n",
        "\n",
        "for i in range(clean.shape[0]):\n",
        "    answer = np.where(results[i] == np.max(results[i]))[0][0]\n",
        "    reality = np.where(types[i] == 1)[0][0]\n",
        "    total[reality] += 1\n",
        "    if (answer != reality):\n",
        "        wrong[reality] += 1\n",
        "\n",
        "wrong_rate = [round(int(w) / int(t) * 100, 2) for w, t in zip(wrong, total)]"
      ]
    },
    {
      "cell_type": "code",
      "execution_count": 10,
      "metadata": {
        "id": "VMK0mFD2IcYT",
        "outputId": "72004ca0-9794-4a9d-e413-62397b220ab7"
      },
      "outputs": [
        {
          "name": "stdout",
          "output_type": "stream",
          "text": [
            "   label  total  wrong rate (%)\n",
            "0      +  25112            0.29\n",
            "1      -  33997            0.07\n",
            "2      0   6914            0.22\n",
            "3      1  26520            0.51\n",
            "4      2  26141            0.05\n",
            "5      3  10909            0.52\n",
            "6      4   7396            0.54\n",
            "7      5   3545            0.68\n",
            "8      6   3118            0.38\n",
            "9      7   2909            4.95\n",
            "10     8   3068            2.15\n",
            "11     9   3737            0.32\n",
            "12     x   3251            0.12\n"
          ]
        }
      ],
      "source": [
        "import pandas as pd  \n",
        "\n",
        "data = {'label': label, 'total': total, 'wrong rate (%)': wrong_rate}  \n",
        "df = pd.DataFrame(data)  \n",
        "\n",
        "print(df)  "
      ]
    },
    {
      "cell_type": "code",
      "execution_count": 12,
      "metadata": {
        "id": "CJBJywF7IcYU",
        "outputId": "1274a232-33a7-48de-9525-cc3991521714"
      },
      "outputs": [
        {
          "name": "stdout",
          "output_type": "stream",
          "text": [
            "VISUALIZE-PREDICTED-RESULT---------------------------\n",
            "+ 0.0 %\n",
            "- 0.0 %\n",
            "0 0.0 %\n",
            "1 0.0 %\n",
            "2 0.0 %\n",
            "3 0.0 %\n",
            "4 0.0 %\n",
            "5 100.0 %\n",
            "6 0.0 %\n",
            "7 0.0 %\n",
            "8 0.0 %\n",
            "9 0.0 %\n",
            "x 0.0 %\n",
            "predict:  5\n",
            "reality:  5\n"
          ]
        },
        {
          "data": {
            "image/png": "[encoded data removed]",
            "text/plain": [
              "<Figure size 432x288 with 1 Axes>"
            ]
          },
          "metadata": {
            "needs_background": "light"
          },
          "output_type": "display_data"
        }
      ],
      "source": [
        "tmp = np.random.randint(0, len(clean))\n",
        "answer = np.where(results[tmp] == np.max(results[tmp]))[0][0]\n",
        "reality = np.where(types[tmp] == 1)[0][0]\n",
        "\n",
        "print(\"VISUALIZE-PREDICTED-RESULT---------------------------\")\n",
        "for p in range(class_num):\n",
        "    print(label[p], round(results[tmp][p]*100, 3), '%')\n",
        "\n",
        "print(\"predict: \", label[answer])\n",
        "print(\"reality: \", label[reality])\n",
        "plt.imshow(clean[tmp])\n",
        "plt.show()"
      ]
    }
  ],
  "metadata": {
    "colab": {
      "name": "prediction.ipynb",
      "provenance": []
    },
    "interpreter": {
      "hash": "ad2bdc8ecc057115af97d19610ffacc2b4e99fae6737bb82f5d7fb13d2f2c186"
    },
    "kernelspec": {
      "display_name": "Python 3.8.8 ('base')",
      "language": "python",
      "name": "python3"
    },
    "language_info": {
      "codemirror_mode": {
        "name": "ipython",
        "version": 3
      },
      "file_extension": ".py",
      "mimetype": "text/x-python",
      "name": "python",
      "nbconvert_exporter": "python",
      "pygments_lexer": "ipython3",
      "version": "3.8.8"
    },
    "orig_nbformat": 4
  },
  "nbformat": 4,
  "nbformat_minor": 0
}
